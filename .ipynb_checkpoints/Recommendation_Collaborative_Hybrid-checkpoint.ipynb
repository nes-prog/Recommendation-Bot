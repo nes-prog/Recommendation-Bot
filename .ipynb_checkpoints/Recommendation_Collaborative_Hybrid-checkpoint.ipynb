{
 "cells": [
  {
   "cell_type": "markdown",
   "id": "c608fe3b",
   "metadata": {},
   "source": [
    "# Data Cleaning"
   ]
  },
  {
   "cell_type": "code",
   "execution_count": 17,
   "id": "10b84cdc",
   "metadata": {},
   "outputs": [
    {
     "name": "stderr",
     "output_type": "stream",
     "text": [
      "[nltk_data] Downloading package stopwords to\n",
      "[nltk_data]     C:\\Users\\Lenovo\\AppData\\Roaming\\nltk_data...\n",
      "[nltk_data]   Package stopwords is already up-to-date!\n"
     ]
    }
   ],
   "source": [
    "import pandas as pd\n",
    "import numpy as np\n",
    "import matplotlib.pyplot as plt\n",
    "import datetime\n",
    "import warnings\n",
    "import pickle\n",
    "import nltk\n",
    "nltk.download(\"stopwords\")\n",
    "from nltk.tokenize import word_tokenize\n",
    "from nltk.corpus import stopwords \n",
    "from nltk.stem import PorterStemmer\n",
    "porter = PorterStemmer()\n",
    "stop_words = set(stopwords.words('english')) \n",
    "warnings.filterwarnings('ignore')"
   ]
  },
  {
   "cell_type": "code",
   "execution_count": 2,
   "id": "d305fabf",
   "metadata": {},
   "outputs": [],
   "source": [
    "books = pd.read_csv('books.csv')\n",
    "ratings = pd.read_csv('ratings.csv')\n",
    "book_tags = pd.read_csv('book_tags.csv')\n",
    "tags = pd.read_csv('tags.csv')"
   ]
  },
  {
   "cell_type": "code",
   "execution_count": 3,
   "id": "953d0c94",
   "metadata": {},
   "outputs": [
    {
     "name": "stdout",
     "output_type": "stream",
     "text": [
      "<class 'pandas.core.frame.DataFrame'>\n",
      "RangeIndex: 10000 entries, 0 to 9999\n",
      "Data columns (total 23 columns):\n",
      " #   Column                     Non-Null Count  Dtype  \n",
      "---  ------                     --------------  -----  \n",
      " 0   id                         10000 non-null  int64  \n",
      " 1   book_id                    10000 non-null  int64  \n",
      " 2   best_book_id               10000 non-null  int64  \n",
      " 3   work_id                    10000 non-null  int64  \n",
      " 4   books_count                10000 non-null  int64  \n",
      " 5   isbn                       9300 non-null   object \n",
      " 6   isbn13                     9415 non-null   float64\n",
      " 7   authors                    10000 non-null  object \n",
      " 8   original_publication_year  9979 non-null   float64\n",
      " 9   original_title             9415 non-null   object \n",
      " 10  title                      10000 non-null  object \n",
      " 11  language_code              8916 non-null   object \n",
      " 12  average_rating             10000 non-null  float64\n",
      " 13  ratings_count              10000 non-null  int64  \n",
      " 14  work_ratings_count         10000 non-null  int64  \n",
      " 15  work_text_reviews_count    10000 non-null  int64  \n",
      " 16  ratings_1                  10000 non-null  int64  \n",
      " 17  ratings_2                  10000 non-null  int64  \n",
      " 18  ratings_3                  10000 non-null  int64  \n",
      " 19  ratings_4                  10000 non-null  int64  \n",
      " 20  ratings_5                  10000 non-null  int64  \n",
      " 21  image_url                  10000 non-null  object \n",
      " 22  small_image_url            10000 non-null  object \n",
      "dtypes: float64(3), int64(13), object(7)\n",
      "memory usage: 1.8+ MB\n"
     ]
    }
   ],
   "source": [
    "books.info()"
   ]
  },
  {
   "cell_type": "code",
   "execution_count": 4,
   "id": "db3095d4",
   "metadata": {},
   "outputs": [],
   "source": [
    "books['original_publication_year'] = books['original_publication_year'].fillna(-1).apply(lambda x: int(x) if x != -1 else -1)"
   ]
  },
  {
   "cell_type": "code",
   "execution_count": 5,
   "id": "90187a20",
   "metadata": {},
   "outputs": [
    {
     "name": "stdout",
     "output_type": "stream",
     "text": [
      "<class 'pandas.core.frame.DataFrame'>\n",
      "RangeIndex: 981756 entries, 0 to 981755\n",
      "Data columns (total 3 columns):\n",
      " #   Column   Non-Null Count   Dtype\n",
      "---  ------   --------------   -----\n",
      " 0   book_id  981756 non-null  int64\n",
      " 1   user_id  981756 non-null  int64\n",
      " 2   rating   981756 non-null  int64\n",
      "dtypes: int64(3)\n",
      "memory usage: 22.5 MB\n"
     ]
    }
   ],
   "source": [
    "ratings.info()"
   ]
  },
  {
   "cell_type": "code",
   "execution_count": 6,
   "id": "137b687a",
   "metadata": {},
   "outputs": [],
   "source": [
    "# clean ratings data\n",
    "ratings_rmv_duplicates = ratings.drop_duplicates()\n",
    "unwanted_users = ratings_rmv_duplicates.groupby('user_id')['user_id'].count()\n",
    "unwanted_users = unwanted_users[unwanted_users < 3]\n",
    "unwanted_ratings = ratings_rmv_duplicates[ratings_rmv_duplicates.user_id.isin(unwanted_users.index)]\n",
    "new_ratings = ratings_rmv_duplicates.drop(unwanted_ratings.index)"
   ]
  },
  {
   "cell_type": "code",
   "execution_count": 7,
   "id": "fcc90273",
   "metadata": {},
   "outputs": [
    {
     "name": "stdout",
     "output_type": "stream",
     "text": [
      "<class 'pandas.core.frame.DataFrame'>\n",
      "Index: 963473 entries, 0 to 981755\n",
      "Data columns (total 3 columns):\n",
      " #   Column   Non-Null Count   Dtype\n",
      "---  ------   --------------   -----\n",
      " 0   book_id  963473 non-null  int64\n",
      " 1   user_id  963473 non-null  int64\n",
      " 2   rating   963473 non-null  int64\n",
      "dtypes: int64(3)\n",
      "memory usage: 29.4 MB\n"
     ]
    }
   ],
   "source": [
    "new_ratings.info()"
   ]
  },
  {
   "cell_type": "code",
   "execution_count": 8,
   "id": "776f0ffd",
   "metadata": {},
   "outputs": [
    {
     "data": {
      "text/html": [
       "<div>\n",
       "<style scoped>\n",
       "    .dataframe tbody tr th:only-of-type {\n",
       "        vertical-align: middle;\n",
       "    }\n",
       "\n",
       "    .dataframe tbody tr th {\n",
       "        vertical-align: top;\n",
       "    }\n",
       "\n",
       "    .dataframe thead th {\n",
       "        text-align: right;\n",
       "    }\n",
       "</style>\n",
       "<table border=\"1\" class=\"dataframe\">\n",
       "  <thead>\n",
       "    <tr style=\"text-align: right;\">\n",
       "      <th></th>\n",
       "      <th>book_id</th>\n",
       "      <th>user_id</th>\n",
       "      <th>rating</th>\n",
       "      <th>title</th>\n",
       "    </tr>\n",
       "  </thead>\n",
       "  <tbody>\n",
       "    <tr>\n",
       "      <th>0</th>\n",
       "      <td>1</td>\n",
       "      <td>314</td>\n",
       "      <td>5</td>\n",
       "      <td>The Hunger Games (The Hunger Games, #1)</td>\n",
       "    </tr>\n",
       "    <tr>\n",
       "      <th>1</th>\n",
       "      <td>1</td>\n",
       "      <td>439</td>\n",
       "      <td>3</td>\n",
       "      <td>The Hunger Games (The Hunger Games, #1)</td>\n",
       "    </tr>\n",
       "    <tr>\n",
       "      <th>2</th>\n",
       "      <td>1</td>\n",
       "      <td>588</td>\n",
       "      <td>5</td>\n",
       "      <td>The Hunger Games (The Hunger Games, #1)</td>\n",
       "    </tr>\n",
       "    <tr>\n",
       "      <th>3</th>\n",
       "      <td>1</td>\n",
       "      <td>1169</td>\n",
       "      <td>4</td>\n",
       "      <td>The Hunger Games (The Hunger Games, #1)</td>\n",
       "    </tr>\n",
       "    <tr>\n",
       "      <th>4</th>\n",
       "      <td>1</td>\n",
       "      <td>1185</td>\n",
       "      <td>4</td>\n",
       "      <td>The Hunger Games (The Hunger Games, #1)</td>\n",
       "    </tr>\n",
       "    <tr>\n",
       "      <th>5</th>\n",
       "      <td>1</td>\n",
       "      <td>2077</td>\n",
       "      <td>4</td>\n",
       "      <td>The Hunger Games (The Hunger Games, #1)</td>\n",
       "    </tr>\n",
       "  </tbody>\n",
       "</table>\n",
       "</div>"
      ],
      "text/plain": [
       "   book_id  user_id  rating                                    title\n",
       "0        1      314       5  The Hunger Games (The Hunger Games, #1)\n",
       "1        1      439       3  The Hunger Games (The Hunger Games, #1)\n",
       "2        1      588       5  The Hunger Games (The Hunger Games, #1)\n",
       "3        1     1169       4  The Hunger Games (The Hunger Games, #1)\n",
       "4        1     1185       4  The Hunger Games (The Hunger Games, #1)\n",
       "5        1     2077       4  The Hunger Games (The Hunger Games, #1)"
      ]
     },
     "execution_count": 8,
     "metadata": {},
     "output_type": "execute_result"
    }
   ],
   "source": [
    "new_ratings['title'] = books.set_index('id').title.loc[new_ratings.book_id].values\n",
    "new_ratings.head(6)"
   ]
  },
  {
   "cell_type": "code",
   "execution_count": 9,
   "id": "570f4d2e",
   "metadata": {},
   "outputs": [
    {
     "name": "stdout",
     "output_type": "stream",
     "text": [
      "<class 'pandas.core.frame.DataFrame'>\n",
      "Index: 963473 entries, 0 to 981755\n",
      "Data columns (total 4 columns):\n",
      " #   Column   Non-Null Count   Dtype \n",
      "---  ------   --------------   ----- \n",
      " 0   book_id  963473 non-null  int64 \n",
      " 1   user_id  963473 non-null  int64 \n",
      " 2   rating   963473 non-null  int64 \n",
      " 3   title    963473 non-null  object\n",
      "dtypes: int64(3), object(1)\n",
      "memory usage: 36.8+ MB\n"
     ]
    }
   ],
   "source": [
    "new_ratings.info()"
   ]
  },
  {
   "cell_type": "code",
   "execution_count": 10,
   "id": "0368dd1a",
   "metadata": {},
   "outputs": [],
   "source": [
    "v = books['ratings_count']\n",
    "m = books['ratings_count'].quantile(0.95)\n",
    "R = books['average_rating']\n",
    "C = books['average_rating'].mean()\n",
    "W = (R*v + C*m) / (v + m)\n",
    "books['weighted_rating'] = W"
   ]
  },
  {
   "cell_type": "markdown",
   "id": "673cd73d",
   "metadata": {},
   "source": [
    "# Collaborative Filtering(user based)"
   ]
  },
  {
   "cell_type": "code",
   "execution_count": 38,
   "id": "e073c933",
   "metadata": {},
   "outputs": [],
   "source": [
    "from surprise import Reader, Dataset, SVD\n",
    "from surprise.model_selection import cross_validate\n",
    "reader = Reader()\n",
    "data = Dataset.load_from_df(new_ratings[['user_id', 'book_id', 'rating']], reader)"
   ]
  },
  {
   "cell_type": "code",
   "execution_count": 39,
   "id": "23eca85f",
   "metadata": {},
   "outputs": [
    {
     "data": {
      "text/plain": [
       "{'test_rmse': array([0.84289782, 0.84416415, 0.83958317, 0.83977747, 0.84447877]),\n",
       " 'test_mae': array([0.65893423, 0.66020599, 0.6569102 , 0.65623822, 0.65978348]),\n",
       " 'fit_time': (13.475231647491455,\n",
       "  11.861265897750854,\n",
       "  11.710143566131592,\n",
       "  11.668785333633423,\n",
       "  11.537096977233887),\n",
       " 'test_time': (1.874661922454834,\n",
       "  1.7104239463806152,\n",
       "  1.9697265625,\n",
       "  1.6196634769439697,\n",
       "  1.5787768363952637)}"
      ]
     },
     "execution_count": 39,
     "metadata": {},
     "output_type": "execute_result"
    }
   ],
   "source": [
    "svd = SVD()\n",
    "cross_validate(svd, data, measures=['RMSE', 'MAE'])"
   ]
  },
  {
   "cell_type": "code",
   "execution_count": 40,
   "id": "92436fbe",
   "metadata": {},
   "outputs": [],
   "source": [
    "trainset = data.build_full_trainset()\n",
    "svd.fit(trainset);"
   ]
  },
  {
   "cell_type": "code",
   "execution_count": 41,
   "id": "1f94845d",
   "metadata": {},
   "outputs": [
    {
     "data": {
      "text/html": [
       "<div>\n",
       "<style scoped>\n",
       "    .dataframe tbody tr th:only-of-type {\n",
       "        vertical-align: middle;\n",
       "    }\n",
       "\n",
       "    .dataframe tbody tr th {\n",
       "        vertical-align: top;\n",
       "    }\n",
       "\n",
       "    .dataframe thead th {\n",
       "        text-align: right;\n",
       "    }\n",
       "</style>\n",
       "<table border=\"1\" class=\"dataframe\">\n",
       "  <thead>\n",
       "    <tr style=\"text-align: right;\">\n",
       "      <th></th>\n",
       "      <th>book_id</th>\n",
       "      <th>user_id</th>\n",
       "      <th>rating</th>\n",
       "      <th>title</th>\n",
       "    </tr>\n",
       "  </thead>\n",
       "  <tbody>\n",
       "    <tr>\n",
       "      <th>150478</th>\n",
       "      <td>1506</td>\n",
       "      <td>10</td>\n",
       "      <td>4</td>\n",
       "      <td>The Zahir</td>\n",
       "    </tr>\n",
       "    <tr>\n",
       "      <th>282986</th>\n",
       "      <td>2833</td>\n",
       "      <td>10</td>\n",
       "      <td>4</td>\n",
       "      <td>The Prisoner of Heaven (The Cemetery of Forgot...</td>\n",
       "    </tr>\n",
       "    <tr>\n",
       "      <th>340448</th>\n",
       "      <td>3409</td>\n",
       "      <td>10</td>\n",
       "      <td>5</td>\n",
       "      <td>The Winner Stands Alone</td>\n",
       "    </tr>\n",
       "    <tr>\n",
       "      <th>393966</th>\n",
       "      <td>3946</td>\n",
       "      <td>10</td>\n",
       "      <td>5</td>\n",
       "      <td>Matterhorn</td>\n",
       "    </tr>\n",
       "    <tr>\n",
       "      <th>452158</th>\n",
       "      <td>4531</td>\n",
       "      <td>10</td>\n",
       "      <td>4</td>\n",
       "      <td>The Joke</td>\n",
       "    </tr>\n",
       "    <tr>\n",
       "      <th>506878</th>\n",
       "      <td>5084</td>\n",
       "      <td>10</td>\n",
       "      <td>2</td>\n",
       "      <td>The Sheltering Sky</td>\n",
       "    </tr>\n",
       "    <tr>\n",
       "      <th>588312</th>\n",
       "      <td>5907</td>\n",
       "      <td>10</td>\n",
       "      <td>4</td>\n",
       "      <td>Our Mutual Friend</td>\n",
       "    </tr>\n",
       "    <tr>\n",
       "      <th>590191</th>\n",
       "      <td>5926</td>\n",
       "      <td>10</td>\n",
       "      <td>2</td>\n",
       "      <td>The Night Watch</td>\n",
       "    </tr>\n",
       "    <tr>\n",
       "      <th>610487</th>\n",
       "      <td>6131</td>\n",
       "      <td>10</td>\n",
       "      <td>2</td>\n",
       "      <td>The Longest Day</td>\n",
       "    </tr>\n",
       "    <tr>\n",
       "      <th>696035</th>\n",
       "      <td>7002</td>\n",
       "      <td>10</td>\n",
       "      <td>5</td>\n",
       "      <td>A Mercy</td>\n",
       "    </tr>\n",
       "    <tr>\n",
       "      <th>743400</th>\n",
       "      <td>7486</td>\n",
       "      <td>10</td>\n",
       "      <td>4</td>\n",
       "      <td>Great House</td>\n",
       "    </tr>\n",
       "    <tr>\n",
       "      <th>759424</th>\n",
       "      <td>7651</td>\n",
       "      <td>10</td>\n",
       "      <td>4</td>\n",
       "      <td>All the Names</td>\n",
       "    </tr>\n",
       "    <tr>\n",
       "      <th>855593</th>\n",
       "      <td>8653</td>\n",
       "      <td>10</td>\n",
       "      <td>4</td>\n",
       "      <td>The End of Mr. Y</td>\n",
       "    </tr>\n",
       "    <tr>\n",
       "      <th>911432</th>\n",
       "      <td>9240</td>\n",
       "      <td>10</td>\n",
       "      <td>3</td>\n",
       "      <td>Arthur &amp; George</td>\n",
       "    </tr>\n",
       "    <tr>\n",
       "      <th>944600</th>\n",
       "      <td>9600</td>\n",
       "      <td>10</td>\n",
       "      <td>4</td>\n",
       "      <td>Await Your Reply</td>\n",
       "    </tr>\n",
       "    <tr>\n",
       "      <th>968243</th>\n",
       "      <td>9854</td>\n",
       "      <td>10</td>\n",
       "      <td>4</td>\n",
       "      <td>The Last Days of Dogtown</td>\n",
       "    </tr>\n",
       "  </tbody>\n",
       "</table>\n",
       "</div>"
      ],
      "text/plain": [
       "        book_id  user_id  rating  \\\n",
       "150478     1506       10       4   \n",
       "282986     2833       10       4   \n",
       "340448     3409       10       5   \n",
       "393966     3946       10       5   \n",
       "452158     4531       10       4   \n",
       "506878     5084       10       2   \n",
       "588312     5907       10       4   \n",
       "590191     5926       10       2   \n",
       "610487     6131       10       2   \n",
       "696035     7002       10       5   \n",
       "743400     7486       10       4   \n",
       "759424     7651       10       4   \n",
       "855593     8653       10       4   \n",
       "911432     9240       10       3   \n",
       "944600     9600       10       4   \n",
       "968243     9854       10       4   \n",
       "\n",
       "                                                    title  \n",
       "150478                                          The Zahir  \n",
       "282986  The Prisoner of Heaven (The Cemetery of Forgot...  \n",
       "340448                            The Winner Stands Alone  \n",
       "393966                                         Matterhorn  \n",
       "452158                                           The Joke  \n",
       "506878                                 The Sheltering Sky  \n",
       "588312                                  Our Mutual Friend  \n",
       "590191                                    The Night Watch  \n",
       "610487                                    The Longest Day  \n",
       "696035                                            A Mercy  \n",
       "743400                                        Great House  \n",
       "759424                                      All the Names  \n",
       "855593                                   The End of Mr. Y  \n",
       "911432                                    Arthur & George  \n",
       "944600                                   Await Your Reply  \n",
       "968243                           The Last Days of Dogtown  "
      ]
     },
     "execution_count": 41,
     "metadata": {},
     "output_type": "execute_result"
    }
   ],
   "source": [
    "new_ratings[new_ratings['user_id'] == 10]"
   ]
  },
  {
   "cell_type": "code",
   "execution_count": 42,
   "id": "9f866fe0",
   "metadata": {},
   "outputs": [
    {
     "data": {
      "text/plain": [
       "Prediction(uid=10, iid=1506, r_ui=None, est=3.4623150719941282, details={'was_impossible': False})"
      ]
     },
     "execution_count": 42,
     "metadata": {},
     "output_type": "execute_result"
    }
   ],
   "source": [
    "svd.predict(10, 1506)"
   ]
  },
  {
   "cell_type": "markdown",
   "id": "98d8f1f1",
   "metadata": {},
   "source": [
    "# Collaborative Filtering(item based)"
   ]
  },
  {
   "cell_type": "code",
   "execution_count": 49,
   "id": "a9ee5d99",
   "metadata": {},
   "outputs": [],
   "source": [
    "#  create a table for users with their corresponding ratings for each book\n",
    "bookmat = new_ratings.pivot_table(index='user_id', columns='title', values='rating')\n",
    "bookmat.head()"
   ]
  },
  {
   "cell_type": "code",
   "execution_count": 84,
   "id": "aae795a8",
   "metadata": {},
   "outputs": [],
   "source": [
    "def get_similar(title, mat):\n",
    "    title_user_ratings = mat[title]\n",
    "    similar_to_title = mat.corrwith(title_user_ratings)\n",
    "    corr_title = pd.DataFrame(similar_to_title, columns=['correlation'])\n",
    "    corr_title.dropna(inplace=True)\n",
    "    corr_title.sort_values('correlation', ascending=False, inplace=True)\n",
    "    answers = [1]\n",
    "    for i in range(0, 10):\n",
    "        answer={'_type':\"collaborative\", 'book_title':corr_title.index[i]}\n",
    "        answers.append(answer)\n",
    "    chatbot_message = {\"answer\": answers}\n",
    "    return chatbot_message"
   ]
  },
  {
   "cell_type": "code",
   "execution_count": 85,
   "id": "0e35de31",
   "metadata": {},
   "outputs": [],
   "source": [
    "title = \"Twilight (Twilight, #1)\"\n",
    "smlr = get_similar(title, bookmat)"
   ]
  },
  {
   "cell_type": "code",
   "execution_count": 86,
   "id": "8c722173",
   "metadata": {},
   "outputs": [
    {
     "data": {
      "text/plain": [
       "{'answer': [1,\n",
       "  {'_type': 'collaborative',\n",
       "   'book_title': 'god is Not Great: How Religion Poisons Everything'},\n",
       "  {'_type': 'collaborative', 'book_title': 'The Day of the Triffids'},\n",
       "  {'_type': 'collaborative', 'book_title': 'Skipping Christmas'},\n",
       "  {'_type': 'collaborative', 'book_title': 'Splintered (Splintered, #1)'},\n",
       "  {'_type': 'collaborative',\n",
       "   'book_title': 'Better Homes and Gardens New Cook Book  '},\n",
       "  {'_type': 'collaborative',\n",
       "   'book_title': 'Stolen Songbird (The Malediction Trilogy, #1)'},\n",
       "  {'_type': 'collaborative', 'book_title': 'Bared to You (Crossfire, #1)'},\n",
       "  {'_type': 'collaborative', 'book_title': 'The Autobiography of Malcolm X'},\n",
       "  {'_type': 'collaborative',\n",
       "   'book_title': 'Balzac and the Little Chinese Seamstress'},\n",
       "  {'_type': 'collaborative', 'book_title': 'Bad Feminist'}]}"
      ]
     },
     "execution_count": 86,
     "metadata": {},
     "output_type": "execute_result"
    }
   ],
   "source": [
    "smlr"
   ]
  },
  {
   "cell_type": "code",
   "execution_count": 46,
   "id": "7cdf8951",
   "metadata": {},
   "outputs": [
    {
     "data": {
      "text/html": [
       "<div>\n",
       "<style scoped>\n",
       "    .dataframe tbody tr th:only-of-type {\n",
       "        vertical-align: middle;\n",
       "    }\n",
       "\n",
       "    .dataframe tbody tr th {\n",
       "        vertical-align: top;\n",
       "    }\n",
       "\n",
       "    .dataframe thead th {\n",
       "        text-align: right;\n",
       "    }\n",
       "</style>\n",
       "<table border=\"1\" class=\"dataframe\">\n",
       "  <thead>\n",
       "    <tr style=\"text-align: right;\">\n",
       "      <th></th>\n",
       "      <th>correlation</th>\n",
       "    </tr>\n",
       "    <tr>\n",
       "      <th>title</th>\n",
       "      <th></th>\n",
       "    </tr>\n",
       "  </thead>\n",
       "  <tbody>\n",
       "    <tr>\n",
       "      <th>god is Not Great: How Religion Poisons Everything</th>\n",
       "      <td>1.0</td>\n",
       "    </tr>\n",
       "    <tr>\n",
       "      <th>The Day of the Triffids</th>\n",
       "      <td>1.0</td>\n",
       "    </tr>\n",
       "    <tr>\n",
       "      <th>Skipping Christmas</th>\n",
       "      <td>1.0</td>\n",
       "    </tr>\n",
       "    <tr>\n",
       "      <th>Splintered (Splintered, #1)</th>\n",
       "      <td>1.0</td>\n",
       "    </tr>\n",
       "    <tr>\n",
       "      <th>Better Homes and Gardens New Cook Book</th>\n",
       "      <td>1.0</td>\n",
       "    </tr>\n",
       "    <tr>\n",
       "      <th>Stolen Songbird (The Malediction Trilogy, #1)</th>\n",
       "      <td>1.0</td>\n",
       "    </tr>\n",
       "    <tr>\n",
       "      <th>Bared to You (Crossfire, #1)</th>\n",
       "      <td>1.0</td>\n",
       "    </tr>\n",
       "    <tr>\n",
       "      <th>The Autobiography of Malcolm X</th>\n",
       "      <td>1.0</td>\n",
       "    </tr>\n",
       "    <tr>\n",
       "      <th>Balzac and the Little Chinese Seamstress</th>\n",
       "      <td>1.0</td>\n",
       "    </tr>\n",
       "    <tr>\n",
       "      <th>Bad Feminist</th>\n",
       "      <td>1.0</td>\n",
       "    </tr>\n",
       "  </tbody>\n",
       "</table>\n",
       "</div>"
      ],
      "text/plain": [
       "                                                   correlation\n",
       "title                                                         \n",
       "god is Not Great: How Religion Poisons Everything          1.0\n",
       "The Day of the Triffids                                    1.0\n",
       "Skipping Christmas                                         1.0\n",
       "Splintered (Splintered, #1)                                1.0\n",
       "Better Homes and Gardens New Cook Book                     1.0\n",
       "Stolen Songbird (The Malediction Trilogy, #1)              1.0\n",
       "Bared to You (Crossfire, #1)                               1.0\n",
       "The Autobiography of Malcolm X                             1.0\n",
       "Balzac and the Little Chinese Seamstress                   1.0\n",
       "Bad Feminist                                               1.0"
      ]
     },
     "execution_count": 46,
     "metadata": {},
     "output_type": "execute_result"
    }
   ],
   "source": [
    "smlr.head(10)"
   ]
  },
  {
   "cell_type": "markdown",
   "id": "c714b21f",
   "metadata": {},
   "source": [
    "# Hybrid Recommendation"
   ]
  },
  {
   "cell_type": "code",
   "execution_count": 56,
   "id": "416739f9",
   "metadata": {},
   "outputs": [],
   "source": [
    "indices = pd.Series(books.index, index=books['title'])\n",
    "def hybrid(user_id, title, n=10):\n",
    "    \"\"\n",
    "    idx = indices[title]\n",
    "    sim_scores = list(enumerate(cosine_sim_genre[idx]))\n",
    "    sim_scores = sorted(sim_scores, key=lambda x: x[1], reverse=True)\n",
    "    sim_scores = sim_scores[1:51]\n",
    "    book_indices = [i[0] for i in sim_scores]\n",
    "    \n",
    "    df = books.iloc[book_indices][['book_id', 'title', 'original_publication_year', 'ratings_count', 'average_rating']]\n",
    "    df['est'] = df['book_id'].apply(lambda x: svd.predict(user_id, x).est)\n",
    "    df = df.sort_values('est', ascending=False)\n",
    "    return df.head(n)"
   ]
  },
  {
   "cell_type": "code",
   "execution_count": 57,
   "id": "4955a942",
   "metadata": {},
   "outputs": [
    {
     "data": {
      "text/html": [
       "<div>\n",
       "<style scoped>\n",
       "    .dataframe tbody tr th:only-of-type {\n",
       "        vertical-align: middle;\n",
       "    }\n",
       "\n",
       "    .dataframe tbody tr th {\n",
       "        vertical-align: top;\n",
       "    }\n",
       "\n",
       "    .dataframe thead th {\n",
       "        text-align: right;\n",
       "    }\n",
       "</style>\n",
       "<table border=\"1\" class=\"dataframe\">\n",
       "  <thead>\n",
       "    <tr style=\"text-align: right;\">\n",
       "      <th></th>\n",
       "      <th>book_id</th>\n",
       "      <th>title</th>\n",
       "      <th>original_publication_year</th>\n",
       "      <th>ratings_count</th>\n",
       "      <th>average_rating</th>\n",
       "      <th>est</th>\n",
       "    </tr>\n",
       "  </thead>\n",
       "  <tbody>\n",
       "    <tr>\n",
       "      <th>1998</th>\n",
       "      <td>249</td>\n",
       "      <td>Tropic of Cancer</td>\n",
       "      <td>1934</td>\n",
       "      <td>45518</td>\n",
       "      <td>3.71</td>\n",
       "      <td>3.978492</td>\n",
       "    </tr>\n",
       "    <tr>\n",
       "      <th>729</th>\n",
       "      <td>5308</td>\n",
       "      <td>The Pearl</td>\n",
       "      <td>1947</td>\n",
       "      <td>133264</td>\n",
       "      <td>3.41</td>\n",
       "      <td>3.921408</td>\n",
       "    </tr>\n",
       "    <tr>\n",
       "      <th>2392</th>\n",
       "      <td>455930</td>\n",
       "      <td>Echo Burning (Jack Reacher, #5)</td>\n",
       "      <td>2001</td>\n",
       "      <td>38524</td>\n",
       "      <td>3.98</td>\n",
       "      <td>3.886100</td>\n",
       "    </tr>\n",
       "    <tr>\n",
       "      <th>8699</th>\n",
       "      <td>1275105</td>\n",
       "      <td>A Charlie Brown Christmas</td>\n",
       "      <td>1965</td>\n",
       "      <td>11639</td>\n",
       "      <td>4.48</td>\n",
       "      <td>3.886100</td>\n",
       "    </tr>\n",
       "    <tr>\n",
       "      <th>284</th>\n",
       "      <td>16181775</td>\n",
       "      <td>The Rosie Project (Don Tillman, #1)</td>\n",
       "      <td>2013</td>\n",
       "      <td>251703</td>\n",
       "      <td>4.01</td>\n",
       "      <td>3.886100</td>\n",
       "    </tr>\n",
       "    <tr>\n",
       "      <th>5199</th>\n",
       "      <td>3678651</td>\n",
       "      <td>Bad Girls Don't Die (Bad Girls Don't Die, #1)</td>\n",
       "      <td>2009</td>\n",
       "      <td>18862</td>\n",
       "      <td>4.07</td>\n",
       "      <td>3.886100</td>\n",
       "    </tr>\n",
       "    <tr>\n",
       "      <th>2311</th>\n",
       "      <td>234724</td>\n",
       "      <td>Shadow Puppets (Ender's Shadow, #3)</td>\n",
       "      <td>2002</td>\n",
       "      <td>43517</td>\n",
       "      <td>3.88</td>\n",
       "      <td>3.886100</td>\n",
       "    </tr>\n",
       "    <tr>\n",
       "      <th>3447</th>\n",
       "      <td>6515834</td>\n",
       "      <td>Forgotten God: Reversing Our Tragic Neglect of...</td>\n",
       "      <td>2009</td>\n",
       "      <td>27044</td>\n",
       "      <td>4.17</td>\n",
       "      <td>3.886100</td>\n",
       "    </tr>\n",
       "    <tr>\n",
       "      <th>4755</th>\n",
       "      <td>106646</td>\n",
       "      <td>The Doomsday Conspiracy</td>\n",
       "      <td>1991</td>\n",
       "      <td>17093</td>\n",
       "      <td>3.59</td>\n",
       "      <td>3.886100</td>\n",
       "    </tr>\n",
       "    <tr>\n",
       "      <th>4086</th>\n",
       "      <td>187812</td>\n",
       "      <td>Avalon High</td>\n",
       "      <td>2005</td>\n",
       "      <td>37402</td>\n",
       "      <td>3.80</td>\n",
       "      <td>3.886100</td>\n",
       "    </tr>\n",
       "  </tbody>\n",
       "</table>\n",
       "</div>"
      ],
      "text/plain": [
       "       book_id                                              title  \\\n",
       "1998       249                                   Tropic of Cancer   \n",
       "729       5308                                          The Pearl   \n",
       "2392    455930                    Echo Burning (Jack Reacher, #5)   \n",
       "8699   1275105                          A Charlie Brown Christmas   \n",
       "284   16181775                The Rosie Project (Don Tillman, #1)   \n",
       "5199   3678651      Bad Girls Don't Die (Bad Girls Don't Die, #1)   \n",
       "2311    234724                Shadow Puppets (Ender's Shadow, #3)   \n",
       "3447   6515834  Forgotten God: Reversing Our Tragic Neglect of...   \n",
       "4755    106646                            The Doomsday Conspiracy   \n",
       "4086    187812                                        Avalon High   \n",
       "\n",
       "      original_publication_year  ratings_count  average_rating       est  \n",
       "1998                       1934          45518            3.71  3.978492  \n",
       "729                        1947         133264            3.41  3.921408  \n",
       "2392                       2001          38524            3.98  3.886100  \n",
       "8699                       1965          11639            4.48  3.886100  \n",
       "284                        2013         251703            4.01  3.886100  \n",
       "5199                       2009          18862            4.07  3.886100  \n",
       "2311                       2002          43517            3.88  3.886100  \n",
       "3447                       2009          27044            4.17  3.886100  \n",
       "4755                       1991          17093            3.59  3.886100  \n",
       "4086                       2005          37402            3.80  3.886100  "
      ]
     },
     "execution_count": 57,
     "metadata": {},
     "output_type": "execute_result"
    }
   ],
   "source": [
    "hybrid(4, 'Eat, Pray, Love')"
   ]
  }
 ],
 "metadata": {
  "kernelspec": {
   "display_name": "Python 3 (ipykernel)",
   "language": "python",
   "name": "python3"
  },
  "language_info": {
   "codemirror_mode": {
    "name": "ipython",
    "version": 3
   },
   "file_extension": ".py",
   "mimetype": "text/x-python",
   "name": "python",
   "nbconvert_exporter": "python",
   "pygments_lexer": "ipython3",
   "version": "3.10.12"
  }
 },
 "nbformat": 4,
 "nbformat_minor": 5
}
